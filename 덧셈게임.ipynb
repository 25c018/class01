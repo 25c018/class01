{
  "nbformat": 4,
  "nbformat_minor": 0,
  "metadata": {
    "colab": {
      "provenance": [],
      "authorship_tag": "ABX9TyMvG1qQaTHYr0FrtfDBuG0k",
      "include_colab_link": true
    },
    "kernelspec": {
      "name": "python3",
      "display_name": "Python 3"
    },
    "language_info": {
      "name": "python"
    }
  },
  "cells": [
    {
      "cell_type": "markdown",
      "metadata": {
        "id": "view-in-github",
        "colab_type": "text"
      },
      "source": [
        "<a href=\"https://colab.research.google.com/github/25c018/class01/blob/main/%EB%8D%A7%EC%85%88%EA%B2%8C%EC%9E%84.ipynb\" target=\"_parent\"><img src=\"https://colab.research.google.com/assets/colab-badge.svg\" alt=\"Open In Colab\"/></a>"
      ]
    },
    {
      "cell_type": "code",
      "source": [
        "import random\n",
        "\n",
        "def two_digit_addition_game():\n",
        "    while True:\n",
        "        num1 = random.randint(10, 99)\n",
        "        num2 = random.randint(1, 9)\n",
        "        correct_answer = num1 + num2\n",
        "\n",
        "        user_answer = input(f\"{num1} + {num2} = ? \")\n",
        "        try:\n",
        "            user_answer = int(user_answer)\n",
        "            if user_answer == correct_answer:\n",
        "                print(\"정답입니다!\")\n",
        "            else:\n",
        "                print(f\"틀렸습니다. 정답은 {correct_answer}입니다.\")\n",
        "\n",
        "            play_again = input(\"다시 플레이하시겠습니까? ㅇㅇ= 예 ㄴㄴ= 아니요(ㅇㅇ/ㄴㄴ): \")\n",
        "            if play_again.lower() != 'ㅇㅇ':\n",
        "                break\n",
        "        except ValueError:\n",
        "            print(\"숫자를 입력해주세요.\")\n",
        "\n",
        "if __name__ == \"__main__\":\n",
        "    two_digit_addition_game()\n"
      ],
      "metadata": {
        "id": "vtFwzsQqWwrq"
      },
      "execution_count": null,
      "outputs": []
    }
  ]
}