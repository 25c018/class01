{
  "nbformat": 4,
  "nbformat_minor": 0,
  "metadata": {
    "colab": {
      "provenance": [],
      "authorship_tag": "ABX9TyMlhr6srs040DCMWKP6zxu2",
      "include_colab_link": true
    },
    "kernelspec": {
      "name": "python3",
      "display_name": "Python 3"
    },
    "language_info": {
      "name": "python"
    }
  },
  "cells": [
    {
      "cell_type": "markdown",
      "metadata": {
        "id": "view-in-github",
        "colab_type": "text"
      },
      "source": [
        "<a href=\"https://colab.research.google.com/github/25c018/class01/blob/main/%EB%82%B1%EB%A7%90%EC%9D%B4%EC%96%B4%EC%84%9C_%EB%AC%B8%EC%9E%A5_%EB%A7%8C%EB%93%A4%EA%B8%B0.ipynb\" target=\"_parent\"><img src=\"https://colab.research.google.com/assets/colab-badge.svg\" alt=\"Open In Colab\"/></a>"
      ]
    },
    {
      "cell_type": "code",
      "execution_count": null,
      "metadata": {
        "collapsed": true,
        "id": "zJI-467BQt6A"
      },
      "outputs": [],
      "source": [
        "# prompt: 사용자의 이름, 좋아하는 색깔, 좋아하는 음식을 묻고 그걸 땡땡이는 검정색과 쌀을 좋아하는 구나 라는 형식의 문장으로 만들 수 있는 코드를 짜줘\n",
        "\n",
        "name = \"\" #@param {type:\"string\"}\n",
        "color = \"\" #@param {type:\"string\"}\n",
        "food = \"\" #@param {type:\"string\"}\n",
        "\n",
        "print(f\"{name}(이)는 {color}(과)와 {food}를 좋아하는 구나\")"
      ]
    }
  ]
}