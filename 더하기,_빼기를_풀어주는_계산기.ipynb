{
  "nbformat": 4,
  "nbformat_minor": 0,
  "metadata": {
    "colab": {
      "provenance": [],
      "authorship_tag": "ABX9TyPMVelnThXO9WgHvxk/r7Uf",
      "include_colab_link": true
    },
    "kernelspec": {
      "name": "python3",
      "display_name": "Python 3"
    },
    "language_info": {
      "name": "python"
    }
  },
  "cells": [
    {
      "cell_type": "markdown",
      "metadata": {
        "id": "view-in-github",
        "colab_type": "text"
      },
      "source": [
        "<a href=\"https://colab.research.google.com/github/25c018/class01/blob/main/%EB%8D%94%ED%95%98%EA%B8%B0%2C_%EB%B9%BC%EA%B8%B0%EB%A5%BC_%ED%92%80%EC%96%B4%EC%A3%BC%EB%8A%94_%EA%B3%84%EC%82%B0%EA%B8%B0.ipynb\" target=\"_parent\"><img src=\"https://colab.research.google.com/assets/colab-badge.svg\" alt=\"Open In Colab\"/></a>"
      ]
    },
    {
      "cell_type": "code",
      "execution_count": 4,
      "metadata": {
        "colab": {
          "base_uri": "https://localhost:8080/"
        },
        "id": "QTeAKKADLLwE",
        "outputId": "c976f8af-8ef8-4816-d829-1906e5f53881"
      },
      "outputs": [
        {
          "output_type": "stream",
          "name": "stdout",
          "text": [
            "결과: -2\n"
          ]
        }
      ],
      "source": [
        "# prompt: x를 사용자가 말한 수로 정하고 y를 사용자가 말한 수로 정해서 사용자가 원하는 더하기 또는 빼기로 이를 계산하는 코드를 짜줘\n",
        "\n",
        "x = None #@param {type:\"number\"}\n",
        "y = None #@param {type:\"number\"}\n",
        "operation = '더하기' #@param [\"더하기\", \"빼기\"]\n",
        "\n",
        "if operation == '더하기':\n",
        "  result = x + y\n",
        "elif operation == '빼기':\n",
        "  result = x - y\n",
        "\n",
        "print(f\"결과: {result}\")"
      ]
    }
  ]
}