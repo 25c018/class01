{
  "nbformat": 4,
  "nbformat_minor": 0,
  "metadata": {
    "colab": {
      "provenance": [],
      "authorship_tag": "ABX9TyMhiqOjE0sfC6M0vqgG+iLJ",
      "include_colab_link": true
    },
    "kernelspec": {
      "name": "python3",
      "display_name": "Python 3"
    },
    "language_info": {
      "name": "python"
    }
  },
  "cells": [
    {
      "cell_type": "markdown",
      "metadata": {
        "id": "view-in-github",
        "colab_type": "text"
      },
      "source": [
        "<a href=\"https://colab.research.google.com/github/25c018/class01/blob/main/python%EB%AC%B8%EB%B2%95.ipynb\" target=\"_parent\"><img src=\"https://colab.research.google.com/assets/colab-badge.svg\" alt=\"Open In Colab\"/></a>"
      ]
    },
    {
      "cell_type": "code",
      "source": [
        "# prompt: python while문에 대해서 알고 싶어. 예시 코드를 주석과 함께 적어줘.\n",
        "\n",
        "# while문은 조건이 참인 동안 코드 블록을 반복 실행합니다.\n",
        "\n",
        "# 1부터 10까지의 숫자를 출력하는 예시\n",
        "count = 1\n",
        "while count <= 10:\n",
        "  print(count)\n",
        "  count += 1  # count 값을 1씩 증가시켜서 조건이 언젠가 거짓이 되도록 합니다.\n",
        "  # 만약 이 줄이 없다면 무한 루프에 빠집니다.\n",
        "\n",
        "\n",
        "# 사용자로부터 입력을 받아 특정 조건을 만족할 때까지 반복하는 예시\n",
        "user_input = \"\"\n",
        "while user_input.lower() != \"exit\":\n",
        "  user_input = input(\"종료하려면 'exit'를 입력하세요: \")\n",
        "  print(\"입력하신 값:\", user_input)\n",
        "\n",
        "\n",
        "# while문과 함께 else문 사용하기\n",
        "# else 블록은 while 루프가 정상적으로 종료되었을 때(조건이 거짓이 되어서) 실행됩니다.\n",
        "# break문으로 루프가 강제 종료된 경우에는 else 블록이 실행되지 않습니다.\n",
        "\n",
        "number = 0\n",
        "while number < 5:\n",
        "  print(number)\n",
        "  number += 1\n",
        "else:\n",
        "  print(\"루프가 정상적으로 종료되었습니다.\")\n",
        "\n",
        "\n",
        "# break문을 사용하여 루프를 강제로 종료\n",
        "number = 0\n",
        "while number < 5:\n",
        "    print(number)\n",
        "    if number == 3:\n",
        "        break  # number가 3이 되면 루프를 종료합니다.\n",
        "    number += 1\n",
        "else:\n",
        "    print(\"루프가 정상적으로 종료되었습니다.\") # break문으로 종료되었으므로 실행되지 않음\n",
        "\n",
        "\n",
        "# continue문을 사용하여 현재 반복을 건너뛰고 다음 반복으로 이동\n",
        "number = 0\n",
        "while number < 5:\n",
        "    number += 1\n",
        "    if number == 3:\n",
        "        continue # number가 3이면 이번 반복을 건너뛰고 다음 반복으로 이동합니다.\n",
        "number\n"
      ],
      "metadata": {
        "id": "Jiz3WDG1QI8m"
      },
      "execution_count": null,
      "outputs": []
    },
    {
      "cell_type": "code",
      "source": [
        "# prompt: 두 자릿수와 한 자릿수 덧셈을 연습할 수 있는 게임을 하나 만들어줘.\n",
        "\n",
        "import random\n",
        "\n",
        "def two_digit_addition_game():\n",
        "    while True:\n",
        "        num1 = random.randint(10, 99)\n",
        "        num2 = random.randint(1, 9)\n",
        "        correct_answer = num1 + num2\n",
        "\n",
        "        user_answer = input(f\"{num1} + {num2} = ? \")\n",
        "        try:\n",
        "            user_answer = int(user_answer)\n",
        "            if user_answer == correct_answer:\n",
        "                print(\"정답입니다!\")\n",
        "            else:\n",
        "                print(f\"틀렸습니다. 정답은 {correct_answer}입니다.\")\n",
        "\n",
        "            play_again = input(\"다시 플레이하시겠습니까? ㅇㅇ= 예 ㄴㄴ= 아니요(ㅇㅇ/ㄴㄴ): \")\n",
        "            if play_again.lower() != 'ㅇㅇ':\n",
        "                break\n",
        "        except ValueError:\n",
        "            print(\"숫자를 입력해주세요.\")\n",
        "\n",
        "if __name__ == \"__main__\":\n",
        "    two_digit_addition_game()\n"
      ],
      "metadata": {
        "colab": {
          "base_uri": "https://localhost:8080/"
        },
        "id": "vtFwzsQqWwrq",
        "outputId": "ef5738f3-fce7-4d1f-9504-61f1d2f63a4f"
      },
      "execution_count": 38,
      "outputs": [
        {
          "name": "stdout",
          "output_type": "stream",
          "text": [
            "43 + 6 = ? 47\n",
            "틀렸습니다. 정답은 49입니다.\n",
            "다시 플레이하시겠습니까? ㅇㅇ= 예 ㄴㄴ= 아니요(ㅇㅇ/ㄴㄴ): ㄴㄴ\n"
          ]
        }
      ]
    }
  ]
}