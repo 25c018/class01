{
  "nbformat": 4,
  "nbformat_minor": 0,
  "metadata": {
    "colab": {
      "provenance": [],
      "authorship_tag": "ABX9TyNwutToDWm0DbFRJkKsr7Go",
      "include_colab_link": true
    },
    "kernelspec": {
      "name": "python3",
      "display_name": "Python 3"
    },
    "language_info": {
      "name": "python"
    }
  },
  "cells": [
    {
      "cell_type": "markdown",
      "metadata": {
        "id": "view-in-github",
        "colab_type": "text"
      },
      "source": [
        "<a href=\"https://colab.research.google.com/github/25c018/class01/blob/main/%EA%B5%AC%EA%B5%AC%EB%8B%A8_%EA%B2%8C%EC%9E%84.ipynb\" target=\"_parent\"><img src=\"https://colab.research.google.com/assets/colab-badge.svg\" alt=\"Open In Colab\"/></a>"
      ]
    },
    {
      "cell_type": "code",
      "execution_count": null,
      "metadata": {
        "colab": {
          "base_uri": "https://localhost:8080/"
        },
        "id": "omvnwmKWOR0h",
        "outputId": "a122ca70-b2cf-4066-a2ac-8554505415df"
      },
      "outputs": [
        {
          "output_type": "stream",
          "name": "stdout",
          "text": [
            "✨ 곱셈/나눗셈 퀴즈 게임 시작! ✨\n",
            "레벨을 선택해주세요: 1 (쉬움), 2 (보통), 3 (어려움)\n"
          ]
        }
      ],
      "source": [
        "import random\n",
        "\n",
        "def generate_question(level):\n",
        "  \"\"\"레벨에 따라 곱셈 또는 나눗셈 문제를 생성합니다.\"\"\"\n",
        "  if random.random() < 0.5: # 50% 확률로 곱셈 문제\n",
        "    num1 = random.randint(1, 9 * level)\n",
        "    num2 = random.randint(1, 9)\n",
        "    question = f\"{num1} 곱하기 {num2} 는 무엇인가요?\"\n",
        "    answer = num1 * num2\n",
        "    operation = \"곱셈\"\n",
        "  else: # 50% 확률로 나눗셈 문제\n",
        "    num2 = random.randint(1, 9)\n",
        "    answer = random.randint(1, 9 * level)\n",
        "    num1 = num2 * answer # 나누어 떨어지게 하기 위해 num1을 먼저 계산\n",
        "    question = f\"{num1} 나누기 {num2} 는 무엇인가요?\"\n",
        "    operation = \"나눗셈\"\n",
        "  return question, answer, operation, num1, num2\n",
        "\n",
        "def explain_solution(operation, num1, num2, correct_answer):\n",
        "  \"\"\"문제 풀이 방법을 설명합니다.\"\"\"\n",
        "  if operation == \"곱셈\":\n",
        "    print(f\"'{num1} 곱하기 {num2}'는 {num1}을 {num2}번 더하는 것과 같아요.\")\n",
        "    print(f\"{num1}을 {num2}번 더하면 {correct_answer}가 됩니다.\")\n",
        "  elif operation == \"나눗셈\":\n",
        "    print(f\"'{num1} 나누기 {num2}'는 {num1} 안에 {num2}가 몇 번 들어가는지 찾는 것과 같아요.\")\n",
        "    print(f\"{num2}에 {correct_answer}를 곱하면 {num1}이 되므로, 정답은 {correct_answer}입니다.\")\n",
        "\n",
        "\n",
        "def run_quiz():\n",
        "  \"\"\"초등학생 나눗셈/곱셈 퀴즈를 실행합니다.\"\"\"\n",
        "  print(\"✨ 곱셈/나눗셈 퀴즈 게임 시작! ✨\")\n",
        "  print(\"레벨을 선택해주세요: 1 (쉬움), 2 (보통), 3 (어려움)\")\n",
        "\n",
        "  while True:\n",
        "    try:\n",
        "      level = int(input(\"레벨: \"))\n",
        "      if 1 <= level <= 3:\n",
        "        break\n",
        "      else:\n",
        "        print(\"1, 2, 3 중 하나를 선택해주세요.\")\n",
        "    except ValueError:\n",
        "      print(\"숫자로 입력해주세요.\")\n",
        "\n",
        "  num_questions = 5 * level # 레벨에 따라 문제 수 증가\n",
        "  questions = []\n",
        "  answers = []\n",
        "  user_answers = []\n",
        "  wrong_questions = []\n",
        "\n",
        "  print(f\"\\n총 {num_questions}문제를 풀어볼 거예요!\")\n",
        "\n",
        "  for i in range(num_questions):\n",
        "    question, answer, operation, num1, num2 = generate_question(level)\n",
        "    questions.append((question, operation, num1, num2))\n",
        "    answers.append(answer)\n",
        "\n",
        "    while True:\n",
        "      try:\n",
        "        user_answer_input = input(f\"\\n문제 {i + 1}: {question} 답: \")\n",
        "        user_answer = int(user_answer_input)\n",
        "        user_answers.append(user_answer)\n",
        "        break\n",
        "      except ValueError:\n",
        "        print(\"숫자로 입력해주세요.\")\n",
        "\n",
        "  print(\"\\n🌟 채점 결과 🌟\")\n",
        "  score = 0\n",
        "  for i in range(num_questions):\n",
        "    if user_answers[i] == answers[i]:\n",
        "      score += 1\n",
        "      print(f\"문제 {i + 1}: 정답입니다! ({user_answers[i]})\")\n",
        "    else:\n",
        "      print(f\"문제 {i + 1}: 틀렸습니다! 당신의 답: {user_answers[i]}, 정답: {answers[i]}\")\n",
        "      wrong_questions.append((i + 1, questions[i], user_answers[i], answers[i]))\n",
        "\n",
        "  print(f\"\\n총 {num_questions}문제 중 {score}문제를 맞혔어요!\")\n",
        "\n",
        "  if wrong_questions:\n",
        "    print(\"\\n📚 틀린 문제 풀이 📚\")\n",
        "    for q_num, (question_text, operation, num1, num2), user_ans, correct_ans in wrong_questions:\n",
        "      print(f\"\\n문제 {q_num}: {question_text}\")\n",
        "      print(f\"당신의 답: {user_ans}, 정답: {correct_ans}\")\n",
        "      explain_solution(operation, num1, num2, correct_ans)\n",
        "  else:\n",
        "    print(\"\\n🎉 모든 문제를 맞혔어요! 정말 잘했어요! 🎉\")\n",
        "\n",
        "  while True:\n",
        "    restart = input(\"\\n한 번 더 풀어볼까요? (네/아니오): \").lower()\n",
        "    if restart == '네':\n",
        "      run_quiz() # 재귀 호출로 게임 다시 시작\n",
        "      break # 재귀 호출 후 현재 함수 종료\n",
        "    elif restart == '아니오':\n",
        "      print(\"다음에 또 만나요! 안녕! 👋\")\n",
        "      break\n",
        "    else:\n",
        "      print(\" '네' 또는 '아니오'로 답해주세요.\")\n",
        "\n",
        "# 게임 시작\n",
        "run_quiz()\n"
      ]
    }
  ]
}